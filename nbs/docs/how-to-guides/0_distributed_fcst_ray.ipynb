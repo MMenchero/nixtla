{
 "cells": [
  {
   "attachments": {},
   "cell_type": "markdown",
   "id": "5ff81b5a-514d-4d8b-953e-c8f7cb4ba215",
   "metadata": {},
   "source": [
    "# How to on Ray: Forecasting\n",
    "> Run TimeGPT distributedly on top of Ray.\n",
    "\n",
    "`TimeGPT` works on top of Spark, Dask, and Ray through Fugue. `TimeGPT` will read the input DataFrame and use the corresponding engine. For example, if the input is a Ray DataFrame, `TimeGPT` will use the existing Ray session to run the forecast.\n"
   ]
  },
  {
   "cell_type": "code",
   "execution_count": null,
   "id": "a3119cd0-9b9d-4df9-9779-005847c46048",
   "metadata": {},
   "outputs": [],
   "source": [
    "#| hide\n",
    "from nixtlats.utils import colab_badge"
   ]
  },
  {
   "cell_type": "code",
   "execution_count": null,
   "id": "dbd11fae-3219-4ffc-b2de-a96542362d58",
   "metadata": {},
   "outputs": [],
   "source": [
    "#| echo: false\n",
    "colab_badge('docs/how-to-guides/0_distributed_fcst_spark')"
   ]
  },
  {
   "attachments": {},
   "cell_type": "markdown",
   "id": "361d702c-361f-4321-85d3-2b76fb7b4937",
   "metadata": {},
   "source": [
    "# Installation "
   ]
  },
  {
   "attachments": {},
   "cell_type": "markdown",
   "id": "cf1a1118",
   "metadata": {},
   "source": [
    "[Ray](https://www.ray.io/) is an open source unified compute framework to scale Python workloads. As long as Ray is installed and configured, `TimeGPT` will be able to use it. If executing on a distributed Ray cluster, make sure the `nixtlats` library is installed across all the workers.\n",
    "\n",
    "In addition to Ray, you'll also need to have [Fugue](https://fugue-tutorials.readthedocs.io/) installed. Fugue provides an easy-to-use interface for distributed computing that lets users execute Python code on top of Spark, Dask and Ray. You can install Fugue for Ray using pip. "
   ]
  },
  {
   "cell_type": "code",
   "execution_count": null,
   "id": "7c3e8bc6",
   "metadata": {},
   "outputs": [],
   "source": [
    "%%capture\n",
    "pip install \"fugue[ray]\""
   ]
  },
  {
   "attachments": {},
   "cell_type": "markdown",
   "id": "743b89bd-6406-4f90-b545-2bd84a8ae62a",
   "metadata": {},
   "source": [
    "## Executing on Ray"
   ]
  },
  {
   "attachments": {},
   "cell_type": "markdown",
   "id": "b18574a5-76f8-4156-8264-9adae43e715d",
   "metadata": {},
   "source": [
    "First, instantiate a `TimeGPT` class. To do this, you'll need a token provided by Nixtla. If you haven't one already, please request yours [here](https://www.nixtla.io/). \n",
    "\n",
    "There are different ways of setting the token. Here we'll use it as an environment variable. You can learn more about this [here](https://docs.nixtla.io/docs/faqs#setting-up-your-authentication-token-for-nixtla-sdk). "
   ]
  },
  {
   "cell_type": "code",
   "execution_count": null,
   "id": "434c950c-6252-4696-8ea8-2e1bb865847d",
   "metadata": {},
   "outputs": [],
   "source": [
    "#| hide\n",
    "import os\n",
    "import pandas as pd\n",
    "from dotenv import load_dotenv\n",
    "\n",
    "load_dotenv()"
   ]
  },
  {
   "cell_type": "code",
   "execution_count": null,
   "id": "bec2b1fb-74fb-4464-b57b-84c676cb997c",
   "metadata": {},
   "outputs": [],
   "source": [
    "from nixtlats import TimeGPT\n",
    "\n",
    "timegpt = TimeGPT() # defaults to os.environ.get(\"TIMEGPT_TOKEN\")"
   ]
  },
  {
   "attachments": {},
   "cell_type": "markdown",
   "id": "357aade9-ffaa-44c6-b9cb-48be7bda71f4",
   "metadata": {},
   "source": [
    "Start Ray as engine."
   ]
  },
  {
   "cell_type": "code",
   "execution_count": null,
   "id": "a7644af0-f628-46ea-8fb7-474ee2fca39e",
   "metadata": {},
   "outputs": [],
   "source": [
    "import ray\n",
    "import logging\n",
    "ray.init(logging_level=logging.ERROR) # log error events "
   ]
  },
  {
   "attachments": {},
   "cell_type": "markdown",
   "id": "395152be-c5c7-46bb-85d8-da739d470834",
   "metadata": {},
   "source": [
    "### Forecast"
   ]
  },
  {
   "attachments": {},
   "cell_type": "markdown",
   "id": "a6857983",
   "metadata": {},
   "source": [
    "Next, load a pandas DataFrame and then convert it to a Ray dataset. "
   ]
  },
  {
   "cell_type": "code",
   "execution_count": null,
   "id": "21ac9c73-6644-47be-884c-23a682844e32",
   "metadata": {},
   "outputs": [],
   "source": [
    "df = pd.read_csv('https://raw.githubusercontent.com/Nixtla/transfer-learning-time-series/main/datasets/electricity-short.csv')\n",
    "df.head()"
   ]
  },
  {
   "cell_type": "code",
   "execution_count": null,
   "id": "0e2befdf",
   "metadata": {},
   "outputs": [],
   "source": [
    "ctx = ray.data.context.DatasetContext.get_current()\n",
    "ctx.use_streaming_executor = False\n",
    "ray_df = ray.data.from_pandas(df).repartition(4)"
   ]
  },
  {
   "attachments": {},
   "cell_type": "markdown",
   "id": "b79b9d8f",
   "metadata": {},
   "source": [
    "Now call `TimeGPT` forecast method. "
   ]
  },
  {
   "cell_type": "code",
   "execution_count": null,
   "id": "305167a0-1984-4004-aea3-b97402832491",
   "metadata": {},
   "outputs": [],
   "source": [
    "fcst_df = timegpt.forecast(ray_df, h=12, freq='H')"
   ]
  },
  {
   "cell_type": "code",
   "execution_count": null,
   "id": "49f083ca",
   "metadata": {},
   "outputs": [],
   "source": [
    "fcst_df.to_pandas().head()"
   ]
  },
  {
   "attachments": {},
   "cell_type": "markdown",
   "id": "2008fbf0-9bd2-4974-904b-bb8dc90876e6",
   "metadata": {},
   "source": [
    "### Forecast with exogenous variables"
   ]
  },
  {
   "attachments": {},
   "cell_type": "markdown",
   "id": "1d281c8d-3a5c-4b3e-8468-7699ef44933b",
   "metadata": {},
   "source": [
    "Exogenous variables or external factors are crucial in time series forecasting as they provide additional information that might influence the prediction. These variables could include holiday markers, marketing spending, weather data, or any other external data that correlate with the time series data you are forecasting.\n",
    "\n",
    "For example, if you're forecasting ice cream sales, temperature data could serve as a useful exogenous variable. On hotter days, ice cream sales may increase.\n",
    "\n",
    "To incorporate exogenous variables in TimeGPT, you'll need to pair each point in your time series data with the corresponding external data.\n",
    "\n",
    "Let's see an example. First we'll load the data as a pandas DataFrame and then we'll convert it to a Ray dataset. "
   ]
  },
  {
   "cell_type": "code",
   "execution_count": null,
   "id": "8b0d7fd4-5d69-4b6e-b065-efeba63f5911",
   "metadata": {},
   "outputs": [],
   "source": [
    "df = pd.read_csv('https://raw.githubusercontent.com/Nixtla/transfer-learning-time-series/main/datasets/electricity-short-with-ex-vars.csv')\n",
    "df.head()"
   ]
  },
  {
   "cell_type": "code",
   "execution_count": null,
   "id": "9bfa7c38",
   "metadata": {},
   "outputs": [],
   "source": [
    "ctx = ray.data.context.DatasetContext.get_current()\n",
    "ctx.use_streaming_executor = False\n",
    "ray_df = ray.data.from_pandas(df).repartition(4)"
   ]
  },
  {
   "attachments": {},
   "cell_type": "markdown",
   "id": "5172dc4a-66dd-47dd-a30d-228bc2f14317",
   "metadata": {},
   "source": [
    "To produce forecasts we have to add the future values of the exogenous variables. Let's read this dataset. In this case we want to predict 24 steps ahead, therefore each unique id will have 24 observations."
   ]
  },
  {
   "cell_type": "code",
   "execution_count": null,
   "id": "a8697301-e53b-446b-a965-6f57383d1d2c",
   "metadata": {},
   "outputs": [],
   "source": [
    "future_ex_vars_ray = pd.read_csv('https://raw.githubusercontent.com/Nixtla/transfer-learning-time-series/main/datasets/electricity-short-future-ex-vars.csv')\n",
    "future_ex_vars_ray.head()"
   ]
  },
  {
   "cell_type": "code",
   "execution_count": null,
   "id": "856219d9",
   "metadata": {},
   "outputs": [],
   "source": [
    "ctx = ray.data.context.DatasetContext.get_current()\n",
    "ctx.use_streaming_executor = False\n",
    "future_ex_vars_ray = ray.data.from_pandas(future_ex_vars_ray).repartition(4)"
   ]
  },
  {
   "attachments": {},
   "cell_type": "markdown",
   "id": "66ec94e4-98c5-48ee-ad2f-d6996e82b758",
   "metadata": {},
   "source": [
    "Let's call the `forecast` method, adding this information:"
   ]
  },
  {
   "cell_type": "code",
   "execution_count": null,
   "id": "b3c51169-3561-4d00-adba-fd6e49ab6c24",
   "metadata": {},
   "outputs": [],
   "source": [
    "timegpt_fcst_ex_vars_df = timegpt.forecast(df=ray_df, X_df=future_ex_vars_ray, h=24, freq='H', level=[80, 90])"
   ]
  },
  {
   "cell_type": "code",
   "execution_count": null,
   "id": "cb4ebfd2",
   "metadata": {},
   "outputs": [],
   "source": [
    "timegpt_fcst_ex_vars_df.to_pandas().head()"
   ]
  },
  {
   "attachments": {},
   "cell_type": "markdown",
   "id": "8865cb90",
   "metadata": {},
   "source": [
    "Don't forget to stop Ray once you're done. "
   ]
  },
  {
   "cell_type": "code",
   "execution_count": null,
   "id": "620ef1e3-da4f-4949-bf12-6fd3727dfec6",
   "metadata": {},
   "outputs": [],
   "source": [
    "ray.shutdown()"
   ]
  }
 ],
 "metadata": {
  "kernelspec": {
   "display_name": "python3",
   "language": "python",
   "name": "python3"
  }
 },
 "nbformat": 4,
 "nbformat_minor": 5
}
